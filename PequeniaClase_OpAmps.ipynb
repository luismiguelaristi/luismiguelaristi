{
  "nbformat": 4,
  "nbformat_minor": 0,
  "metadata": {
    "colab": {
      "provenance": [],
      "authorship_tag": "ABX9TyNWcwL2klrbsq4kVjNkvMiN",
      "include_colab_link": true
    },
    "kernelspec": {
      "name": "python3",
      "display_name": "Python 3"
    },
    "language_info": {
      "name": "python"
    }
  },
  "cells": [
    {
      "cell_type": "markdown",
      "metadata": {
        "id": "view-in-github",
        "colab_type": "text"
      },
      "source": [
        "<a href=\"https://colab.research.google.com/github/luismiguelaristi/luismiguelaristi/blob/main/PequeniaClase_OpAmps.ipynb\" target=\"_parent\"><img src=\"https://colab.research.google.com/assets/colab-badge.svg\" alt=\"Open In Colab\"/></a>"
      ]
    },
    {
      "cell_type": "markdown",
      "source": [
        "# Cosas esenciales sobre Amplificadores Operacionales (OpAmps, AOP)\n",
        "\n",
        "Vamos a revisar algunos aspectos fundamentales sobre amplificadores operacionales, empezando por su comportamiento en lazo abierto, luego revisaremos la retroalimentación negativa, y finalmente, cómo usarla para controlar el factor de amplificación de una señal.\n",
        "\n",
        "# El OpAmp en Lazo Abierto:\n",
        "\n",
        "- Ganancia en lazo abierto enorme\n",
        "- \"Cero\" corriente en las entradas\n",
        "- V Entrada no inversora (+) - V Entrada inversora (-) x ganancia en lazo abierto = V salida"
      ],
      "metadata": {
        "id": "eODzBCnbtdMm"
      }
    },
    {
      "cell_type": "code",
      "execution_count": 4,
      "metadata": {
        "colab": {
          "base_uri": "https://localhost:8080/",
          "height": 621
        },
        "id": "TQFWKNHoreK6",
        "outputId": "f59920dd-6cde-498a-c4e0-509ce47c9700"
      },
      "outputs": [
        {
          "output_type": "execute_result",
          "data": {
            "text/plain": [
              "<IPython.lib.display.IFrame at 0x7e30f28819c0>"
            ],
            "text/html": [
              "\n",
              "        <iframe\n",
              "            width=\"100%\"\n",
              "            height=\"600\"\n",
              "            src=\"https://www.multisim.com/content/DdmbjVU7PAeMjzch4qSKSR/opampdemo1/open\"\n",
              "            frameborder=\"0\"\n",
              "            allowfullscreen\n",
              "            \n",
              "        ></iframe>\n",
              "        "
            ]
          },
          "metadata": {},
          "execution_count": 4
        }
      ],
      "source": [
        "from IPython.display import IFrame\n",
        "\n",
        "url = 'https://www.multisim.com/content/DdmbjVU7PAeMjzch4qSKSR/opampdemo1/open'\n",
        "IFrame(url, width='100%', height=600)"
      ]
    },
    {
      "cell_type": "markdown",
      "source": [
        "# El OpAmp en lazo cerrado:\n",
        "\n",
        "Características de los OpAmps (AOP) retroalimentados negativamente:\n",
        "\n",
        "- \"Cero\" corriente en las entradas (alta impedancia)\n",
        "- Salida de baja impedancia\n",
        "- Cuando conecto la salida con la entrada (-),\n",
        "  el voltaje de ambas entradas trata de ser IGUAL\n"
      ],
      "metadata": {
        "id": "LaryttQ7vre3"
      }
    },
    {
      "cell_type": "code",
      "source": [
        "url = 'https://www.multisim.com/content/XkjYmYgbcicMytk8uhdbxo/opampdemo2/open'\n",
        "IFrame(url, width='100%', height=600)"
      ],
      "metadata": {
        "colab": {
          "base_uri": "https://localhost:8080/",
          "height": 621
        },
        "id": "2wn5K66vwIGE",
        "outputId": "21e3bc23-0822-4d46-bbef-0840b58efc48"
      },
      "execution_count": 5,
      "outputs": [
        {
          "output_type": "execute_result",
          "data": {
            "text/plain": [
              "<IPython.lib.display.IFrame at 0x7e30f2881c60>"
            ],
            "text/html": [
              "\n",
              "        <iframe\n",
              "            width=\"100%\"\n",
              "            height=\"600\"\n",
              "            src=\"https://www.multisim.com/content/XkjYmYgbcicMytk8uhdbxo/opampdemo2/open\"\n",
              "            frameborder=\"0\"\n",
              "            allowfullscreen\n",
              "            \n",
              "        ></iframe>\n",
              "        "
            ]
          },
          "metadata": {},
          "execution_count": 5
        }
      ]
    },
    {
      "cell_type": "markdown",
      "source": [
        "¿Qué pasa si el voltaje que percibe la entrada (-)\n",
        "es menor que el de la salida?\n",
        "\n",
        "# El OpAmp como amplificador no inversor\n",
        "\n",
        "Jugando con la retroalimentación de un OpAmp (AOP) - Amplificador no inversor:\n",
        "\n",
        "- Cuando conecto la salida con la entrada (-),\n",
        "  el voltaje de ambas entradas trata de ser IGUAL\n",
        "- Si el voltaje en ambas entradas es \"igual\",\n",
        "  el voltaje a la salida se ajusta"
      ],
      "metadata": {
        "id": "zX8MeU_swlHg"
      }
    },
    {
      "cell_type": "code",
      "source": [
        "url = 'https://www.multisim.com/content/B4Q2ieWPhxqoK8FiWWhzqb/opampdemo3/open'\n",
        "IFrame(url, width='100%', height=600)"
      ],
      "metadata": {
        "colab": {
          "base_uri": "https://localhost:8080/",
          "height": 621
        },
        "id": "8hKbINfhxCmS",
        "outputId": "61f21e52-ff3e-46a7-9f3b-8920309142c5"
      },
      "execution_count": 6,
      "outputs": [
        {
          "output_type": "execute_result",
          "data": {
            "text/plain": [
              "<IPython.lib.display.IFrame at 0x7e30f28808b0>"
            ],
            "text/html": [
              "\n",
              "        <iframe\n",
              "            width=\"100%\"\n",
              "            height=\"600\"\n",
              "            src=\"https://www.multisim.com/content/B4Q2ieWPhxqoK8FiWWhzqb/opampdemo3/open\"\n",
              "            frameborder=\"0\"\n",
              "            allowfullscreen\n",
              "            \n",
              "        ></iframe>\n",
              "        "
            ]
          },
          "metadata": {},
          "execution_count": 6
        }
      ]
    },
    {
      "cell_type": "markdown",
      "source": [
        "El factor del divisor de tensión se convierte en el factor de amplificación\n",
        "- Si el voltaje se divide en 2, la ganancia es 2\n",
        "- Si el voltaje se divide en 5, la ganancia es 5\n",
        "- Ganancia = (R2 + R3)/R3"
      ],
      "metadata": {
        "id": "Sase9M6zxWMK"
      }
    }
  ]
}