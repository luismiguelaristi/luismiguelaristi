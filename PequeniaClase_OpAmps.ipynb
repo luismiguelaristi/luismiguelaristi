{
  "nbformat": 4,
  "nbformat_minor": 0,
  "metadata": {
    "colab": {
      "provenance": [],
      "authorship_tag": "ABX9TyOBFMMFOrILSjqseRmu+9ma",
      "include_colab_link": true
    },
    "kernelspec": {
      "name": "python3",
      "display_name": "Python 3"
    },
    "language_info": {
      "name": "python"
    }
  },
  "cells": [
    {
      "cell_type": "markdown",
      "metadata": {
        "id": "view-in-github",
        "colab_type": "text"
      },
      "source": [
        "<a href=\"https://colab.research.google.com/github/luismiguelaristi/luismiguelaristi/blob/main/PequeniaClase_OpAmps.ipynb\" target=\"_parent\"><img src=\"https://colab.research.google.com/assets/colab-badge.svg\" alt=\"Open In Colab\"/></a>"
      ]
    },
    {
      "cell_type": "markdown",
      "source": [
        "# Cosas esenciales sobre Amplificadores Operacionales (OpAmps, AOP)\n",
        "\n",
        "Por Luis Miguel Aristizábal Gómez.\n",
        "\n",
        "Vamos a revisar algunos aspectos fundamentales sobre amplificadores operacionales, empezando por su comportamiento en lazo abierto, luego revisaremos la retroalimentación negativa, y finalmente, cómo usarla para controlar el factor de amplificación de una señal.\n",
        "\n",
        "# El OpAmp en Lazo Abierto:\n",
        "\n",
        "- Ganancia en lazo abierto enorme\n",
        "- \"Cero\" corriente en las entradas\n",
        "- V Entrada no inversora (+) - V Entrada inversora (-) x ganancia en lazo abierto = V salida"
      ],
      "metadata": {
        "id": "eODzBCnbtdMm"
      }
    },
    {
      "cell_type": "code",
      "execution_count": 4,
      "metadata": {
        "colab": {
          "base_uri": "https://localhost:8080/",
          "height": 621
        },
        "id": "TQFWKNHoreK6",
        "outputId": "f59920dd-6cde-498a-c4e0-509ce47c9700"
      },
      "outputs": [
        {
          "output_type": "execute_result",
          "data": {
            "text/plain": [
              "<IPython.lib.display.IFrame at 0x7e30f28819c0>"
            ],
            "text/html": [
              "\n",
              "        <iframe\n",
              "            width=\"100%\"\n",
              "            height=\"600\"\n",
              "            src=\"https://www.multisim.com/content/DdmbjVU7PAeMjzch4qSKSR/opampdemo1/open\"\n",
              "            frameborder=\"0\"\n",
              "            allowfullscreen\n",
              "            \n",
              "        ></iframe>\n",
              "        "
            ]
          },
          "metadata": {},
          "execution_count": 4
        }
      ],
      "source": [
        "from IPython.display import IFrame\n",
        "\n",
        "url = 'https://www.multisim.com/content/DdmbjVU7PAeMjzch4qSKSR/opampdemo1/open'\n",
        "IFrame(url, width='100%', height=600)"
      ]
    },
    {
      "cell_type": "markdown",
      "source": [
        "# El OpAmp en lazo cerrado:\n",
        "\n",
        "Características de los OpAmps (AOP) retroalimentados negativamente:\n",
        "\n",
        "- \"Cero\" corriente en las entradas (alta impedancia)\n",
        "- Salida de baja impedancia\n",
        "- Cuando conecto la salida con la entrada (-),\n",
        "  el voltaje de ambas entradas trata de ser IGUAL\n"
      ],
      "metadata": {
        "id": "LaryttQ7vre3"
      }
    },
    {
      "cell_type": "code",
      "source": [
        "url = 'https://www.multisim.com/content/XkjYmYgbcicMytk8uhdbxo/opampdemo2/open'\n",
        "IFrame(url, width='100%', height=600)"
      ],
      "metadata": {
        "colab": {
          "base_uri": "https://localhost:8080/",
          "height": 621
        },
        "id": "2wn5K66vwIGE",
        "outputId": "21e3bc23-0822-4d46-bbef-0840b58efc48"
      },
      "execution_count": 5,
      "outputs": [
        {
          "output_type": "execute_result",
          "data": {
            "text/plain": [
              "<IPython.lib.display.IFrame at 0x7e30f2881c60>"
            ],
            "text/html": [
              "\n",
              "        <iframe\n",
              "            width=\"100%\"\n",
              "            height=\"600\"\n",
              "            src=\"https://www.multisim.com/content/XkjYmYgbcicMytk8uhdbxo/opampdemo2/open\"\n",
              "            frameborder=\"0\"\n",
              "            allowfullscreen\n",
              "            \n",
              "        ></iframe>\n",
              "        "
            ]
          },
          "metadata": {},
          "execution_count": 5
        }
      ]
    },
    {
      "cell_type": "markdown",
      "source": [
        "¿Qué pasa si el voltaje que percibe la entrada (-)\n",
        "es menor que el de la salida?\n",
        "\n",
        "# El OpAmp como amplificador no inversor\n",
        "\n",
        "Jugando con la retroalimentación de un OpAmp (AOP) - Amplificador no inversor:\n",
        "\n",
        "- Cuando conecto la salida con la entrada (-),\n",
        "  el voltaje de ambas entradas trata de ser IGUAL\n",
        "- Si el voltaje en ambas entradas es \"igual\",\n",
        "  el voltaje a la salida se ajusta"
      ],
      "metadata": {
        "id": "zX8MeU_swlHg"
      }
    },
    {
      "cell_type": "code",
      "source": [
        "url = 'https://www.multisim.com/content/B4Q2ieWPhxqoK8FiWWhzqb/opampdemo3/open'\n",
        "IFrame(url, width='100%', height=600)"
      ],
      "metadata": {
        "colab": {
          "base_uri": "https://localhost:8080/",
          "height": 621
        },
        "id": "8hKbINfhxCmS",
        "outputId": "61f21e52-ff3e-46a7-9f3b-8920309142c5"
      },
      "execution_count": 6,
      "outputs": [
        {
          "output_type": "execute_result",
          "data": {
            "text/plain": [
              "<IPython.lib.display.IFrame at 0x7e30f28808b0>"
            ],
            "text/html": [
              "\n",
              "        <iframe\n",
              "            width=\"100%\"\n",
              "            height=\"600\"\n",
              "            src=\"https://www.multisim.com/content/B4Q2ieWPhxqoK8FiWWhzqb/opampdemo3/open\"\n",
              "            frameborder=\"0\"\n",
              "            allowfullscreen\n",
              "            \n",
              "        ></iframe>\n",
              "        "
            ]
          },
          "metadata": {},
          "execution_count": 6
        }
      ]
    },
    {
      "cell_type": "markdown",
      "source": [
        "El factor del divisor de tensión se convierte en el factor de amplificación\n",
        "- Si el voltaje se divide en 2, la ganancia es 2\n",
        "- Si el voltaje se divide en 5, la ganancia es 5\n",
        "- Ganancia = (R2 + R3)/R3\n",
        "\n",
        "## Reto: Sabiendo cómo se comporta un OpAmp con retroalimentación negativa...Explicar qué hace este circuito:\n",
        "\n",
        "![image.png](data:image/png;base64,iVBORw0KGgoAAAANSUhEUgAAA5IAAAH7CAIAAAAxdzf+AAAgAElEQVR4Ae2dCZgUxdmAew8WcJcbFAElgChgFHDxwhAP8EKBiCAqHiCK9xVMUAHxiIqiIogaEFGIRwIaNBhQjoAiiICKEQkCcokoKofLuezu9P/8f/9U2pme3u6ZPqq633l8tKa76quv3q96eR16ezSdFwQgAAEIQAACEIAABKQnoEmfIQlCAAIQgAAEIAABCEBAR1vZBBCAAAQgAAEIQAACChBAWxUoEilCAAIQgAAEIAABCKCt7AEIQAACEIAABCAAAQUIoK0KFIkUIQABCEAAAhCAAATQVvYABCAAAQhAAAIQgIACBNBWBYpEihCAAAQgAAEIQAACaCt7AAIQgAAEIAABCEBAAQJoqwJFIkUIQAACEIAABCAAAbSVPQABCEAAAhCAAAQgoAABtFWBIpEiBCAAAQhAAAIQgADayh6AAAQgAAEIQAACEFCAANqqQJFIEQIQgAAEIAABCEAAbWUPQAACEIAABCAAAQgoQABtVaBIpAgBCEAAAhCAAAQggLayByAAAQhAAAIQgAAEFCCAtipQJFKEAAQgAAEIQAACEEBb2QMQgAAEIAABCEAAAgoQQFsVKBIpQgACEIAABCAAAQigrewBCEAAAhCAAAQgAAEFCKCtChSJFCEAAQhAAAIQgAAE0Fb2AAQgAAEIQAACEICAAgTQVgWKRIoQgAAEKiXQq1ev5mleLVu2LC4u7tixY69eve6666533nln9+7dlQakAwQgAAHZCKCtslWEfCAAAQhkQqBjx46a41etWrUefPDBXbt2ZTITYyAAAQiERABtDQk800IAAhDwlIArbTX89uijj/7Pf/7jaRYEgwAEIOAjAbTVR7iEhgAEIBAYAbO2FhQU1PnlK93nsPXr19+4cWNgSTIRBCAAgWwIoK3Z0GMsBCAAAVkImLW1b9++qWl9880306ZN69OnT25urtliTzvttPLy8tT+HIEABCAgGwG0VbaKkA8EIACBTAhUqq0i6Jw5c2rWrGk216lTp4qzNCAAAQhISwBtlbY0JAYBCEDABQHn2qrr+sSJE83a2rNnTxcz0RUCEIBASATQ1pDAMy0EIAABTwm40taKioqGDRsKc23VqpWnuRAMAhCAgC8E0FZfsBIUAhCAQMAEXGmrruvdu3cX2lqjRo2As2U6CEAAAhkQQFszgMYQCEAAAtIRcKut/fr1E9qal5eXSCSkWxIJQQACEPglAbT1lzx4BwEIQEBNAm619eKLLxbaWrduXTUXTdYQgEC8CKCt8ao3q4UABKJKwK22tm3bVmhrx44do4qFdUEAAlEigLZGqZqsBQIQiC8BV9q6ZcsW89NbBw8eHF9wrBwCEFCHANqqTq3IFAIQgEB6Aq60ddCgQeKj1pycnJUrV6YPzBkIQAACshBAW2WpBHlAAAIQyIaAc22dPn16Xl6e0NYrrrgim3kZCwEIQCAwAmhrYKiZCAIQgICPBJxo6/fff3/vvfeanbV58+Y//PCDj2kRGgIQgIB3BNBW71gSCQIQgEB4BMza2qZNm8Gm10033XTZZZcVFxfn5+eLD1k1TWvWrNnq1avDS5mZIQABCLgjgLa640VvCEAAAnISMGur2U3TtXv06MHnrHKWkqwgAIF0BNDWdGQ4DgEIQEAlAs619cwzz5w1a5ZKayNXCEAAAv9HAG1lI0AAAhCIAgHn2nrVVVdFYcGsAQIQiB8BtDV+NWfFEIBAFAmYtbVHjx5fm17Lli1r0KCB+W6Bp59+2iGDkpKSWbNmPfnkk/fee+/9998/ceLE9evXOxxLNwhAAALeEkBbveVJNAhAAALhEDBra9++fZOSWLBgQZUqVYS55uXlzZgxI6lP0ttZs2ZdfPHF1apVE6OMRm5ubu/evX/88cek/ryFAAQg4DcBtNVvwsSHAAQgEAQBe23Vdf2pp54yC2idOnXsHyPQpUsXc/+cnBzz29atW+/YsSOIhTEHBCAAgYME0NaDJPgvBCAAAZUJVKqtuq7369fPrJ6tWrXauXNnukV36dLF+GB16tSp3377ra7rW7ZsGT16dO3atY0gt9xyS7qxHIcABCDgBwG01Q+qxIQABCAQNAEn2rpv377i4mKzuZ533nnl5eWWud5///0rVqxIPTVr1iwjQs2aNQ8cOJDagSMQgAAEfCKAtvoElrAQgAAEAiXgRFt1Xd+wYUPSr2fdc889bhM96qijDHP98ssv3Y6lPwQgAIGMCaCtGaNjIAQgAAGJCDjUVl3X586da/66rJycnNdee83VSs466yxDWxctWuRqIJ0hAAEIZEMAbc2GHmMhAAEIyELAubbquj5y5EjzrQLVqlVbsmSJ85W0atXKGL5y5Urno+gJAQhAIEsCaGuWABkOAQhAQAoCrrRV1/VLL73UbK6NGjUyfu+q0sX89NNPBQUFmqYVFhZyb2uluOgAAQh4SABt9RAmoSAAAQiERsCttu7du/eEE04wm+upp566f//+Shfw5JNPGqP69etXaWc6QAACEPCQANrqIUxCQQACEAiNgFttNX49q379+mZzvfrqq+0X8P333xtDcnJyXN1XYB+WsxCAAAScEEBbnVCiDwQgAAHZCWSgrbquz549Oy8vz2yuo0ePTrfURCLRvXt3o/ONN96YrhvHIQABCPhEAG31CSxhIQABCARKIDNt1XX90UcfNWurzfe+Pvjgg0bP1q1b7969O9DlMRkEIAABXUdb2QUQgAAEokBg7ty5Uw6+Fi9e7HxJiUTirbfeOjj0f/87e/bs1OFTpkwxvt+1QYMGa9asSe3AEQhAAAJ+E0Bb/SZMfAhAAALKE5g3b161atU0TatVq9bSpUuVXw8LgAAE1CSAtqpZN7KGAAQgEBSBjz76qEaNGpqm1axZ86OPPgpqWuaBAAQgkEwAbU0mwnsIQAACEBAEPvnkk9q1a2uaVqNGjYULF4rjNCAAAQgETwBtDZ45M0IAAhBQg8DHH39cp04d43PWDz/8UI2kyRICEIguAbQ1urVlZRCAAASyILBgwYKaNWtqmlanTh1Xv+OVxZwMhQAEIGBHAG21o8M5CEAAAvEksGnTpsLCQk3TGjVqtGLFinhCYNUQgIBsBNBW2SpCPhCAAATCJ7B8+XLzw1xt2jwMK/xqkQEEYkMAbY1NqVkoBCAAAccE0FbHqOgIAQgERwBtDY41M0EAAhBQhcDWrVtHOHtt375dlUWRJwQgoDoBtFX1CpI/BCAAAQhAAAIQiAUBtDUWZWaREIAABCAAAQhAQHUCaKvqFSR/CEAAAhCAAAQgEAsCaGssyswiIQABCEAAAhCAgOoE0FbVK0j+EIBAFAjs2bNn3bp1AawkmIewBjNLALiYAgIQkIoA2ipVOUgGAhCIKYEHH3zwoosu8nvxH330UcOGDUtKSnydaNeuXYcffjhfBusrZIJDIJ4E0NZ41p1VQwACEhHYunWr8TWqc+fO9S+tRCJx2mmnaZp23333+TeLrutDhgzRNO2UU05JJBK+TkRwCEAgbgTQ1rhVnPVCAALSEbj22muNr6Fq3759RUWFT/n99a9/NWapXr36pk2bfJpl8+bNhxxyiDHR1KlTfZqFsBCAQDwJoK3xrDurhgAEZCHw5Zdf5ufni29PfeWVV/zIrLS0tEWLFmKWfv36+TGLrutXXnmlmKVZs2b79+/3aSLCQgACMSSAtsaw6CwZAhCQiMC5554rPE/TtCZNmuzZs8fz/B5//HHzLLm5ucuWLfN8ls8++yw3N9c80ZNPPun5LASEAARiSwBtjW3pWTgEIBA+gZkzZ5olz2g/8sgj3ma2bdu2unXrJk10xhlneDuLruudO3dOmqVOnTo//fST5xMREAIQiCcBtDWedWfVEIBA+ATKy8uPO+64JM/TNK1mzZpbt271ML/bbrstdRZN06ZPn+7hLG+//bblLHfccYeHsxAKAhCIMwG0Nc7VZ+0QgECYBMaPH2/peZqm3XjjjV5l9tVXX1WpUsVyomOOOebAgQOeTFRWVtamTRvLWapUqbJ69WpPZiEIBCAQcwJoa8w3AMuHAATCIbBr166GDRtaep6mafn5+V9++aUnmf3ud79LN4umac8995wns4wdO9Zmlp49e3oyC0EgAIGYE0BbY74BWD4EIBAOgaFDh9p4nqZpF1xwQfaZzZ8/336WBg0a7Ny5M8uJduzYUb9+ffuJPvjggyxnYTgEIAABtJU9AAEIQCBoAps3by4sLLT3PE3TZs2alU1miUSiQ4cOlc5y9913ZzOLrut/+MMfKp3F10fSZpk/wyEAAVUIoK2qVIo8IQCB6BC46qqrKvU8TdPatm1bXl6e8bInT57sZJZq1apt2LAh41nWr19frVo1JxO9+uqrGc/CQAhAAAK6rqOtbAMIQAACgRJIfbipjfNNnDgxs+T27t175JFH2kQ2n7r88sszm0XX9T59+phD2bR9eiRtxpkzEAIQUI4A2qpcyUgYAhBQm8BZZ52V6nZVq1Zt1KhR6vFGjRrt3r07gwU//PDDqdE0TWvWrFnq8ZycnCVLlmQwy+LFi3NyclIDWs6iadqIESMymIUhEIAABAwCaCs7AQIQgEBwBNI93PSuu+569dVXU/1P07T777/fbX5bt26tWbNmarR27dpt3LjxkEMOST116qmnJhIJtxP95je/SQ1VvXr19evXFxcXp56qUaPG999/73YW+kMAAhAwCKCt7AQIQAACARFI93DTOnXqbNu2LZFIdOzYMVX1qlevvmnTJlcpDhw4MDWOpmmzZ8/Wdf3uu++2PPvmm2+6mmXKlCmWcYYMGaLr+r/+9S/LszfddJOrWegMAQhAQBBAWwUKGhCAAAT8JfDMM89YmtyYMWOMiRctWmT5d+7XXHON88xWrlyZn5+fOlH37t2NICUlJZaPjG3evPn+/fsdTlRaWnrUUUelznLooYf+/PPPRpALLrggtUNeXt6KFSsczkI3CEAAAmYCaKuZBm0IQAACfhEoKSk57LDDUjWuRYsWpaWlYtaePXum9snNzf3kk09EH/vGeeedlxoh6fsLnnvuudQ+mqaNGjXKPrg4+8QTT1hGGDdunOjzn//8x/ILui688ELRhwYEIAAB5wTQVues6AkBCEDgFwT+8pe/DHT8OvPMMy09b9q0aeaga9asKSgoSO159tlnm7ula8+aNSt1rKZpN998s3lIWVlZ69atU3vWrVt3+/bt5p6W7W3bttWpUyd1+LHHHltWVmYecuONN6Z20zRt7ty55m7p2sOGDXMMeOCAAQOuOfh6++23d/OShoBX3yGcbp9wPD4E0Nb41JqVQsADArt3736L10EC55xzjqWTOT94+umnp1bljjvusIwwY8aM1M7mIxUVFSeccELqWMtfhHrnnXdSe2qa9vvf/94c07J9++23W46dOXNmUv8ffvihVq1aqZ3btm1bUVGR1Dnp7T/+8Y/UgRxRkcDw4cOTistbCGRGAG3NjBujIBBTAmvWrFHxT005c87JyVm6dGnqTnL+WWbS2BdffNFypY899lhST+Nt586dU/sXFBSsXbvWsr9x0O3nwY8++mjqLJqmvfzyyzazpPs82DIUByUngLbabHVOuSKAtrrCRWcIxJ0A2uqhH1xxxRXp9tOTTz5pOdGf//zndEN2795t+eTXX/3qV/v27bMcle6LD3r16mXZ3zhoefdtXl7e8uXLLUel++KDxo0b79mzx3KIruvPPvusJQEOqkgAbU23zznulgDa6pYY/SEQawJoq1fSYP+VqqWlpS1btkydy/x7+kkb8b777kvtr2na66+/ntTT/LZfv36WoxYsWGDuJtrpnnUwYMAA0Se18corr1jO8uCDD6Z21nU93a+vWQbhoPwE0FbLfc7BDAigrRlAYwgE4ksgSVsL4v3Kzc3N2Bjuuece+200depUy+D33ntv6sBvv/22sLAwtf/JJ59s/yUCmzdvdj4wkUicdNJJqbMUFhZ+++23qVmJI4lE4sQTT0wdWFRUtGXLFtFNNAYPHpza2dWRG2+88QNeoRJo06aNKBnaKvY2jSwJoK1ZAmQ4BOJFIElb16xZE6/1/3K16Z7qL/60Ttew+dDUPIPld1BZfkzr9kNT8yzOP6ZN96HpAw88YA5o2U73Me21116b1H/Tpk3Vq1dPh87h8ccffzwpLG8DJnDyySeLYqGtAcOP8HRoa4SLy9Ig4D0BtNXMdOXKlbMzen355ZfmOOnaixcvtvz2gaSbYpcvX275ue/FF1+cLrL5+K5duw4//HBhGKKRdFPsvn37mjZtKs6KRqNGjXbv3m0OmK590UUXiVGikZeX9+9//9s85PLLLxdnRSMnJ2fy5MnOYW/YsMEck3bwBNDW4JnHYUa0NQ5VZo0Q8IwA2uoZSmeBLr30UqFuopGTk7NkyRIR4OyzzxanRKOgoGD16tWij31jwoQJYqC5YX4EwSOPPGI+JdovvfSSfXBx9uuvv65ataoYKBpnnXWW6PPxxx87MXXRn4a0BNBWaUujdGJoq9LlI3kIBE0AbQ2Y+Pr166tVqyYMTzR++9vfGplMnz5dHDQ3nDx+Vayl0ge+ZvP4VTGLruuVPvC1U6dO5lUYbcv7IsxhaUtIAG2VsCgRSAltjUARWQIEgiOAtgbH+uBMf/zjH1NNTtO0adOmlZeXH3vssaln69Sp89NPPx0M4Oi/c+fOTY0jvl7rhhtusDw7a9YsR9EPdtq+fXvdunVTQ7Vu3bqsrOyNN95IPaVpmuVvoR0MyX8lJYC2SloYxdNCWxUvIOlDIFgCaGuwvP93tnRPg2rRosWoUaMsPe/pp5/OIM/zzz8/NVp+fv6bb76Zn5+feurCCy/MYJYnnngiNZSmaWPHjrV85leDBg1+/vnnDCZiSLgE0NZw+Ud1drQ1qpVlXRDwhQDa6gvWyoKOHTvWUvXy8vJSjx911FGlpaWVhbQ4v2LFCsuAlgfz8/Md/mJZ0kz79+9v3rx5atqWs2ia9txzzyVF4K0SBNBWJcqkXJJoq3IlI2EIhEkAbQ2FfllZmfkpmKnOZz7y5ptvZpzk9ddfbw5l077pppsynmXKlCk2kc2nWrVqVVZWlvFEDAyRANoaIvwIT422Rri4LA0C3hNAW71n6izi22+/bfa5dO1TTz3V/vsF7GfbunVrzZo10wUXx2vUqPHdd9/Zh7I/a/lIWhFfNP75z3/ax+GstATQVmlLo3RiaKvS5SN5CARNAG0Nmrhpvi5dugifs2zk5OQsXLjQNCKT5p/+9CfL4OaDjz76aCahTWPSPZLWPMuZZ55pGkFTMQJoq2IFUyRdtFWRQpEmBOQggLaGWIfPPvvM8msFhOpdfvnl2ae3d+/eI488UsRMbTRp0mTPnj3ZT9SnT5/U4OJIbm7uJ598kv0sRAiLANoaFvloz4u2Rru+rA4CHhNAWz0G6jLcVVddJcQuqeHhw00nT56cFNz89pVXXnGZtXX3devWWX77gDFX//79rYdxVBECaKsihVIsTbRVsYKRLgTCJYC2hst/8+bNhYWFZokU7bvvvtur3BKJRIcOHURkc6N9+/YVFRVeTXTXXXeZg4t29erVN23a5NUsxAmFANoaCvbIT4q2Rr7ELBACXhJAW72kmVGsoUOHCr0TjQYNGuzcuTOjeNaD5s+fL4KbG++//771gIyO7tixo379+ub4Rnv48OEZxWOQRATQVomKEaFU0NYIFZOlQMB/Amir/4wrmWHXrl2HH354kur58XDTHj16JM3Ss2fPSpJzf3rMmDFJszRq1Gj37t3uIzFCLgJoq1z1iEo2aGtUKsk6IBAIAbQ1EMyVTDJ+/Hiz6rVq1erAgQOVjHF/eu3atQUFBWKiKlWqrF692n2YSkakPpJ24sSJlYzhtAoE0FYVqqRejmirejUjYwiESABtDRG+mLq8vPy4444TQvnOO++IU942br31VjHLHXfc4W1wEe2tt94Ss7Rt27a8vFycoqEuAbRV3drJnDnaKnN1yA0C0hFAWyUpydy5cw3V8/Xhptu3b69bt66maXXq1Pnpp5/8W3vnzp2N5cyaNcu/WYgcJAG0NUja8ZkLbY1PrVkpBDwggLZ6ANGjEOeee25ubu6yZcs8imcdZuTIkZqmPfXUU9anPTpqPJL2ggsu8CgeYcIngLaGX4MoZoC2RrGqrAkCvhFAW31D6zrwypUrr732WtfDXA4oLS09++yz9+/f73Kc6+79+vX74osvXA9jgKwE0FZZK6N2Xmir2vUjewgETABtDRi4/XSlpaX2HTw5G6VZPAFCECcE0FYnlOjjlgDa6pYY/SEQawJoa6zLz+Ih4JgA2uoYFR1dEEBbXcCiKwQggLayByAAAScE0FYnlOjjlgDa6pYY/SEQawJoa6zLz+Ih4JgA2uoYFR1dEEBbXcCiKwQggLayByAAAScE0FYnlOjjlgDa6pYY/SEQawJoa6zLz+Ih4JgA2uoYFR1dEEBbXcCiKwQggLayByAAAScE0FYnlOjjlgDa6pYY/SEQawJoa6zLz+Ih4JgA2uoYFR1dEEBbXcCiKwQggLayByAAAScE0FYnlOjjlgDa6pYY/SEQawJoa6zLz+Ih4JgA2uoYFR1dEEBbXcCiKwQggLayByAAAScE0FYnlOjjlgDa6pYY/SEQawJoa6zLz+Ih4JgA2uoYFR1dEEBbXcCiKwQggLayByAAAScE0FYnlOjjlgDa6pYY/SEQawJoa6zLz+Ih4JgA2uoYFR1dEEBbXcCiKwQggLayByAAAScE0FYnlOjjlgDa6pYY/SEQawJoa6zLz+Ih4JgA2uoYFR1dEEBbXcCiKwQggLayByAAAScE0FYnlOjjlgDa6pYY/SEQawJoa6zLz+Ih4JgA2uoYFR1dEEBbXcCiKwQggLayByAAAScE0FYnlOjjlgDa6pYY/SEQawJoa6zLz+Ih4JgA2uoYFR1dEEBbXcCiKwQggLayByAAAScE0FYnlOjjlgDa6pYY/SEQawJoa6zLz+Ih4JgA2uoYFR1dEEBbXcCiKwQggLayByAAAScE0FYnlOjjlgDa6pYY/SEQawJoa6zLz+Ih4JgA2uoYFR1dEEBbXcCiKwQggLayByAAAScE0FYnlOjjlgDa6pYY/SEQawJoa6zLz+Ih4JgA2uoYFR1dEEBbXcCiKwQggLayByAAAScE0FYnlOjjlgDa6pYY/SEQawJoa6zLz+Ih4JgA2uoYFR1dEEBbXcCiKwQggLayByAAAScE0FYnlOjjlgDa6pYY/SEQawJoa6zLz+Ih4JgA2uoYFR1dEEBbXcCiKwQggLayByAAAScE0FYnlOjjlgDa6pYY/SEQawJoa6zLz+Ih4JgA2uoYFR1dEEBbXcCiKwQggLayByAAAScE0FYnlOjjlgDa6pYY/SEQawJoa6zLz+Ih4JgA2uoYFR1dEEBbXcCiKwQggLayByAAAScE0FYnlOjjlgDa6pYY/SEQawJoa6zLz+Ih4JgA2uoYFR1dEEBbXcCiKwQggLayByAAAScE0FYnlOjjlgDa6pYY/SEQawJoa6zLz+Ih4JgA2uoYFR1dEEBbXcCiKwQggLayByAAAScE0FYnlOjjlgDa6pYY/RUgUFFRsT39K5FIKLAGWVNEW2WtDHlBQC4CaKtc9YhKNmhrVCrJOkwENmzYoFX2qlev3vHHH3/ppZdOmDDhp59+Mo2maUcAbbWjwzkIQOAgAbT1IAn+6yUBtNVLmsSShIATbTVrbc2aNR944IH9+/dLkr/MaaCtMleH3CAgDwG0VZ5aRCkTtDVK1WQt/0/ArbYaCnvqqad+9913QLQngLba8+EsBCBgEEBb2Ql+EEBb/aBKzJAJJGlru3btuphep5566q9//etq1aqZP3A12u3bt+czV/vioa32fDgLAQgYBNBWdoIfBNBWP6gSM2QCSdo6ffr01ITKy8sXLVrUt2/fnJwcs7/eeeedqZ05IgigrQIFDQhAwIYA2moDh1MZE0BbM0bHQHkJONFWkf2kSZPM5lq1atWtW7eKszSSCKCtSUB4CwEIWBJAWy2xcDBLAmhrlgAZLiMBV9qq63r//v3NH7i+/PLLMq5KjpzQVjnqQBYQkJ0A2ip7hdTMD21Vs25kbUvArbYuXrzYrK3Dhg2zDR/rk2hrrMvP4iHgmADa6hgVHV0QQFtdwKKrKgTcauv+/fvN9wn0799flZUGnyfaGjxzZoSAigTQVhWrJn/OaKv8NSJD1wTcaquu61WrVhUfuF511VWup4zNALQ1NqVmoRDIigDamhU+BqchgLamAcNhlQm41da9e/cKZ9U0jYcJ2BQfbbWBwykIQEAQQFsFChoeEkBbPYRJKFkIuNXWjz/+2KytL730kiwrkS8PtFW+mpARBGQkgLbKWBX1c0Jb1a8hK0gh4FZbhw0bJrQ1Nzd3/fr1KSE58P8E0Fa2AgQg4IQA2uqEEn3cEkBb3RKjvwIEXGnrDz/8ULduXaGt55xzjgIrDC9FtDU89swMAZUIoK0qVUudXNFWdWpFpo4JONfWHTt2dOrUSThrfn7+Z5995nieOHZEW+NYddYMAfcE0Fb3zBhROQG0tXJG9FCOgBNt3bFjx4QJE5o2bSqcVdO0UaNGKbfYgBNGWwMGznQQUJQA2qpo4SRPG22VvECklwmBJG1t165dF9PrxBNPPOKII8y2qmlabm7uiBEjMpksZmPQ1pgVnOVCIEMCaGuG4BhmSwBttcXDSTUJJGlrkqGmvm3evPm7776r5lqDzhptDZo480FATQJoq5p1kz1rtFX2CpFfBgSca2thYeGECRP279+fwSzxHIK2xrPurBoCbgmgrW6J0d8JAbTVCSX6KEYgSVuLiorqmF4FBQXmD1yfeeYZxZYXaroyaOv8+fOvvPLKDh06XHjhhfxfR6jbgckhkJYA2poWDSeyIIC2ZgGPobISSNLW6dOnmzP98MMPzeaan58/d+5cc8BpRHEAACAASURBVAcn7dWrV0+ZMmXGjBlOOkepT+jaOmzYsJycHPP/eDRp0mTs2LF8ZB6lbcZaIkAAbY1AESVcAtoqYVFIKVsC9tqq6/qoUaPM3lO3bt01a9a4mnXgwIGaprVo0cLVqAh0Dldbp0+fbi6cuY28RmB3sYQoEUBbo1RNedaCtspTCzLxjECl2qrrev/+/c3S07p16507dzrMYMOGDfXq1UNbNU1zq/sOCafrdu6555qrltpGXtOh4zgEAiaAtgYMPCbToa0xKXS8lulEW/ft29ehQwez9/To0aOiosKG1N///vcnnnji8ssvLyoqMgbyaWvA2tqoUSNzydK1kVebbcwpCARDAG0NhnPcZkFb41bxWKzXibbqur5x48YGDRqY1WfYsGE2gNq0aWPuzKetwX/aav4a3qRapL499NBDR4wYsXfvXpuacgoCEPCJANrqE9iYh0VbY74Borl8h9qq6/rcuXPz8/OF8eTk5Lz++uvpoAwfPnzgwVe1atXQVsm11Sgr8ppuP3McAr4SQFt9xRvb4GhrbEsf5YU711Zd15944gmhrZqmVa9efenSpZXSqV+/PtqqhLYir5VuZjpAwA8CaKsfVImJtrIHIkjAlbbqun711VebzfXII4/cunWrPRe01SAW8L2trm4SMNfUaHPPq/2u5iwEPCSAtnoIk1CCANoqUNCIDgG32rp3797i4mKz5XTs2NH+OaBoq4raauTMbQPRudRZicQE0FaJi6NwamirwsUj9XQE3GqrrusbNmwwTFTIa79+/dLF13UdbVVXW5FXm43NKQh4RQBt9YokccwE0FYzDdoRIZCBtuq6PmfOnLy8PKGtmqaNHTs2HRG0VXVtRV7T7W2OQ8ATAmirJxgJkkQAbU0CwtsoEMhMW3Vdf+yxx8zaavO9r2irbNr64G9+1aFhDXP5nLe55zUKlz1rkIwA2ipZQSKSDtoakUKyDDOBjLU1kUj06dPHrDvpvvcVbZVNWxdf0a7irk6zeh93Yqbyyj2v5ouINgSyJIC2ZgmQ4ZYE0FZLLBxUm0Bpaeky08v5t7bqur53717T0P9tfvPNN6k40FY5tbXirk7Ia+p25QgEgieAtgbPPA4zoq1xqDJr9J4A2iqztiKv3u94IkLAJQG01SUwujsigLY6wkQnCCQRQFvl11bkNWnT8hYCQRJAW4OkHZ+50Nb41JqVekkAbVVFW5FXL/c9sSDgmADa6hgVHV0QQFtdwKIrBAQBtFUtbUVexdalAYFgCKCtwXCO2yxoa9wqznq9IYC2qqityKs3u58oEHBAAG11AIkurgmgra6RMQACfEuW4ayapq1ZsybI/VC3bl0xdVLDeACWIaZO/s2jsoIsHHPFkADaGsOiB7BktDUAyEwREQLnnHNO84Mv4/u0qlSpcvBA84EDB0ZknbbLWLNmjdkX1dVWPnm1rTMnIZAtAbQ1W4KMtyKAtlpR4RgErAi0adPGbGxJ7R49elgNitqxiGkr8hq1Dcp6pCGAtkpTikglgrZGqpwsxlcC77777pT0rw8//NDX2SUJHkltRV4l2V2kESUCaGuUqinPWtBWeWpBJhBQgECEtRV5VWD/kaI6BNBWdWqlUqZoq0rVIlcIhE4g8tqKvIa+x0ggGgTQ1mjUUbZVoK2yVYR8ICA1gZhoK/Iq9S4kORUIoK0qVEm9HNFW9WpGxhAIkUCstBV5DXGnMbXqBNBW1SsoZ/5oq5x1iXtW7777bmlpqd8U1q5du3LlSr9nKSsrmzFjht+zBBY/htqKvAa2u5goSgTQ1ihVU561+KutH3zwgfjF66lTp1ZUVGSw8gULFoggc+bMySACQ9QisHfv3iOOOGLUqFF+p92zZ88LLrjA71meffbZBg0a7Ny50++JgokfW21FXoPZYMwSGQJoa2RKKdVC/NXWBx54wPxsywyeEFRWVnbooYeKIHfeeadU+EjGDwLDhw/XNK1OnTo//fSTH/GNmIsWLcrJydE0bdasWf7NUlJScthhh2mads899/g3S5CRY66tyGuQm425lCaAtipdPmmT91db165dK4xT07Tbb7/dLYhZs2aZIyxevNhtBPqrReDbb78tLCw0iu7f/6UkEomOHTsas7Rt27a8vNwnSoMHDzZmqVat2oYNG3yaJciwaKthrhV3deLrYYPceMylHAG0VbmSKZGwv9qq6/oJJ5wgvLNx48Zu7xO47rrrxPBmzZolEgklsJJkxgT69+8vKl5QULB69eqMQ9kMfPXVV8UsmqZNnDjRpnPGp7755ptDDjlETNS3b9+MQ8kzEG0V2sonr/JsSzKRkADaKmFRIpCS79r62GOPiT+2NU1zdZ9A0h0Ckflr1gjsG5+WsHz58ry8PPOG6dWrl+dz7du3r2nTpuZZGjVqtHv3bs8nuvzyy82z5OTkLFmyxPNZAg6ItiZpK/Ia8A5kOlUIoK2qVEqtPH3X1k2bNhl3EBp/fru6TyDpDoHly5erBZds3RI4++yzzZ5ntBcsWOA2jn3/ESNGpM7ywAMP2I9ye/bjjz8273xjxo4dO6r+NwZoq6W2Iq9uLxD6R54A2hr5EoeyQN+1Vdd1cROhpmmu7hMw3yHQqlWrUAAxaWAE/vnPf6bapKZpJ598soeq98MPP9SqVSt1oqKioi1btni42E6dOqXOomnatGnTPJwl+FBoq422Iq/Bb0hmlJYA2iptaZROLAhtHT16tPnPb4f3CSTdIXD//fcrDZrk7QmUlZUde+yx5n1ibr/++uv2w52fvfnmm82Rze0BAwY4j2Pf8+9//7s5srndsmXLAwcO2A+X+SzaWqm2Iq8yb2ByC4wA2hoY6lhNFIS2fvfdd+YbFh3eJ5B0h0AAj4WPVeFlW+zzzz9vdruk9q9+9at9+/Zln/OqVauqVKmSFFy8zc3N/eSTT7Kf5cCBAy1bthRhUxujR4/OfpawIqCtDrUVeQ1rizKvJATQVkkKEbE0gtBWXdfPOuss8Ye3w/sEzHcItG/fPmLcWY6ZQElJScOGDcUOsWw89thj5iGZtS+88ELL4OLgWWedlVlk86hRo0aJgJaNOnXqbNu2zTxEoTba6kpbkVeF9japeksAbfWWJ9EMAgFp67hx48x/fld6n0DSHQIjRoyQs2CJRGL79u3+PfVTzlV7ntU999xj3h6W7Ro1anz//ffZTD1v3jzLyEkHs/wi1u3bt9erVy8pZurbQYMGZbOWEMeirRloK/Ia4o5l6rAIoK1hkY/2vAFp6/bt2wsKCsQf3pXeJ2C+QyAnJ2f9+vVSlWHOnDnXX399s2bNjL9xzsvLa9KkyZVXXjlt2jS3D6aVal2hJJP0cFOxSVIbN998c8YZVlRUFBcXp8ZMPdK6deuysrKMJ7rzzjtTY6YeKSgoWLNmTcazhDgQbc1YW5HXEPctUwdPAG0NnnkcZgxIW3Vd79q1q/jDu9L7BMx3CJx66qnyVOLTTz/97W9/KxaS2jj++OPnzJkjT8LyZ9K3b99UjJZH8vPzV6xYkdmKXnrpJcuYlgfHjRuX2Sxff/111apVLWOmHuzdu3dms4Q4as+ePc8++6x5Lf/85z+DzKdu3brm2c3txVe0y1IogxzON2wFuW2YKxQCaGso2CM/aXDaOmnSJPOfMTb3CSTdIfD0009LUoYpU6ZUr17dvArLdk5OzvDhwyXJWfI0li5dmpubm4qxU6dO+fn5qce7deuWwYr27NnTpEmT1GhHHHFEixYtUo8fdthhJSUlGUzUq1ev1Gi5ubmW/6uTk5OzcOHCDGYJZciOHTsGDx5s/tIvsdJ27drNnDkzmKwio6188hrMhmGWEAmgrSHCj/DUwWlrSUmJ2fls7hMw3yGQm5u7efNmGQrw+uuvm58ef9JJJ40ZM+bjjz/++uuvP/nkkwkTJnTp0kX8Qa5p2sMPPyxD2pLnYP5dPUGvoKBg7dq1119/vThibsyePdvtoh544AFzBNF+5ZVXpk6dKt6aG0OGDHE7y6JFi8w7RETr37//5s2bCwsLxRHR8PaRtG4Tdt7/q6++Ovroo0Xalo2BAwcG8GCviGkr8up8E9JTOQJoq3IlUyLh4LRV1/WLL75Y/IFnc5+A+Q4BT36zO/tKLF++XDh3UVHRa6+9ZvkA/Dlz5ojfiM/NzQ3470+zX2bAEdI93HTw4MG6rm/durVmzZpiw4hG27ZtXd1A/P3339eoUUMMF4327dsbcX7zm9+Ig6JRvXr1jRs3OgeSSCTMX6thjrNp0yZd14cNGyYOmht//etfnc8SSs81a9bYyKJ5LR4++DbdSm0yUesmgdQbErhtIF3ROa4oAbRV0cJJnnag2jplyhTzH3KW9wkk3SGQ8V2G3nI/88wzjcyLiorsH+25cePGxo0bG52POuqoAD5/8nalgUU7cOCA5Qd4DRo02Llzp5HGww8/bN4wov3yyy87z/Paa68VA82NuXPnGkEsv4VV07Qrr7zS+SyvvfaaObhoi9tFdu3adfjhh4vjovGrX/1q//79zicKuGdZWdmvf/1rkW2ljRdffNHXDCOsrXzy6uvOIXjwBNDW4JnHYcZAtXXfvn3mz88s7xMw3yGQn5//ww8/hF4G84OTXn311UrzWbhwofjL4okTJ1baP54dnn76aUsHevbZZwWQffv2NW3aNLVb48aNd+/eLbrZNL788kvLe2Qvuugi86hLL700dZacnJylS5eau6Vrl5aWOrlH9oUXXkidRdO0kSNHposc+nH7r4FIXU7Dhg0dliazpUVeW5HXzDYGoyQkgLZKWJQIpBSotuq6bv61ccv7BMx3CHTt2lUGxOLrQIuLiy3vDUhNUvxqzvnnn596NqpHOnXqVOz4VVRUlCo9rVq1Svp8evLkyandNE176KGHnGA899xzU4dXqVLlq6++Mg9fv359tWrVUnueccYZ5m7p2o8//njqWE3TXnjhBfOQ8vLy4447LrVn7dq1f/zxR3NPy/ayZcsc003uuHXrVsuYlR60TDh1CeYjkydPrjRsxh1ioq3Ia8Y7hIHyEEBb5alFlDIJWlv/8Y9/mP+ES7pPIOkOgUmTJsnAWnyQNmrUKIf5vP3228Yy8/Lyhg4dOjyQ15gxY0aE+nL+7CfzHjC3p0+fnkQ4kUh06NDB3MdoFxUVbdmyJalz0tuZM2emDtQ07bbbbkvqqev6H//4R8vOb7/9dmpn85Eff/yxVq1aqWOPP/741O+hmDt3bmpPTdNuvfVWc0zLdufOnS3HOjl4zz33ZLA17r77bifBk/ocf/zxGczlcIjlowyMBIx7W//d74QODWv498+qAR1Sb0v19Qj3vFpeDhyUnwDaKn+NVMwwaG09cOCA+fOSpPsEzHcIVKtWTdzjGCLZRCIhvsV+8eLFDjP58ccfk/4sD+DtKaecEsAs/k2R7qPN+fPnW0563XXX2ZTD7UebJSUlhx12WOpExxxzTNIHwEmTig/jk8a+9957ST2Nt5YfAOfn53/55ZeW/Y2D06ZNS4rP2yQChrZ+1Ldd0nFv33561Qm+Smq64MirzdXBKTkJoK1y1kX1rILWVl3XBwwYIP4gSbpPwHyHQM+ePdPBHT58+GCr14IFC4wh5eXl5vPpHqG1Zs0ao9uiRYvSzbV9+3aR7bp169J1SzqeSCQsb6kUofxoKK2tubm5n376aRJG8bZHjx6pxPLy8r744gvRJ6kxfvz41CH2N5I+88wzlkOeeeaZpODi7apVq8T/1ZjHnnfeeaJPUuOLL77Iy8szdzbaPXr0SOop3qb79bXUIHE+Em1tNXQWeRUXBQ35CaCt8tdIxQxD0FbzR6qapon7BJLuEPjb3/6WDqjl38lqmvbUU08ZQw4cOGD+8/vGG2+0DDVnzhyjm42XlJWViefhL1++3DJO6sGSkhJzAsG0ldbWfv36pWIUR9auXWv+cmDBM93z0dL92n6zZs1sfm2/rKysTZs2Irho1K1bd9u2bSIZc6Nbt26im2jY+7Su6+b/PROjNE1L9/1qo0ePNnejbUkgDtqKvJqvPtqSE0BbJS+QoumFoK3l5eXmv40V9wmYdbawsNDm95Gvvvrq3r17n3322cafXo0bN+79f6933nnHKEOSthYUFGzYsCG1Qk60Vdd18SjWV155JTWI5ZFFixaJP1lPPPHEkwN5XXrppcm/iRPse8sPEQUHm8YhhxzyzTffWJIUB2+99VbLCO+++67oIxpDhw617Gzz/0LGWHFTctLwP/zhDyK4aJgfMWHuP3DgQNHHsvHdd99ZPkq2uLg49ZG0O3bsqF+/vjl+Bu3jjjsug72Qwe9jaZpWp06dDOZyOMTmLzEMbV01oEPPlvX9+2fdwBPT/T1+wMf55NXy4uKgPATQVnlqEaVMQtBWXdfNtwOK+wTMH0FdfvnllVJevny58ef37373u6TOQlsPPfRQo8+1116b1EfXdYfa2rt3byNI0lOTUgOKI4MGDTKGFBcXi4ORb1iqmMHB/t/33XdfpXC2b99uvitaBGzdunVZWZl5+ObNmy1/ceeUU05x8iCIpG87MyYyvrjLPEtFRUVxcbFIQzSKioq+++47c0/L9kMPPSSGmBupv4Yv9pK5m9t2pf9XYJmkruvHH3+827n+8pe/pIuW/XHLPWBkaGhrwO4Y+nTIa/abigg+EUBbfQIb87DhaOsHH3xg/rPwww8/TLpDoNJf39Z13Ym2XnLJJcZfnVepUuXrr79OKrZDbX3llVeMbO3vvxTBt2zZIr7J0+FzmsRYpRs7duzYntEryTvTQRg5cqR524j2+PHjzUOuuuoqcUo0cnJybO5gNg//5JNPxG0hYrimaZdeeqm526RJk8xnRftPf/qTuVu69p49e5o0aSJGicYRRxyxd+9eMWrdunWWz2c444wzXJFO/RBXTGHf4LmtoYupkwSQV/ttzNlQCKCtoWCP/KThaGsikTA/Rv7222833yFQu3ZtmxsQRUmcaGufPn3ee+89wwn69+8vxhoNh9pqfpj8Mcccs2PHjqQ45rcHDhwQX6lVo0aNjJ+XaY5J2yBQWlp61FFHCcMTjUMPPfTnn382+nz22WeW0tmnTx/nGNOJr7gPe+/evUceeaRIQDQaN268Z88ehxM5Ed9LLrlEBBeN3NzcZcuWOZwly258S5YTa5SkD/Ka5W5nuLcE0FZveRLNIBCOtuq6bv6rz8aNG5u/gfOaa65xUh6H2qrr+umnn65pWl5e3qpVq8yRHWqrrut/+9vfhDS0b98+3bfVb9++/ZxzzhE9H330UfN0tLMnYC6E4Kxp2rBhw4zglg83Tf0rfvtMKr3N4MEHHzTPLtqu/n68oqIi3SNpjdsMFi9eLL5uTUyhadrVV19tn7+3Z9esWWPzV/PmxAYMGODt1KnRbDKJ500CqcaMvKZuG46EQgBtDQV75CcNTVuXLFli/gPP/BQhy1+ySa2Ec21dsGCBMVfSt8w711Zd182/ElRUVDRkyBDzNy1t2rRp5MiR5l+dufDCCzP+m9nUxXJEEDjttNPMO8doV69efePGja5+oUoEtGwMGTIkdRZN06ZOnbp161bzdxSLbu3bt3db8XSPpL3++ut1XbdZqWXO/h386quvjjnmGLFSy8bAgQPtH3DrSXpoa6qnWh5BXj3ZbwTJhgDamg09xqYjEJq26rresmXL1D//GjRo4PBOR+faquu68SFcXl7eypUrBQtX2lpWVtavX7+khOvVq9eqVSvzgxGMDuecc474a2sxHQ1PCCxatMjyM8i+ffu2atUqqUCaptWrV8/+vg7LrNJ9+0CLFi1St4Ex6bx58yxD2R/s3r17as55eXnDhw9PPa5p2tChQ+0D+nR2586dd999t+XvurVr187h/2pmnxvaaimp6Q4ir9lvOSJkTABtzRgdA20IhKmtlh9o3XTTTTbpmk+50lbxRKrLLrtMBHGlrcaop59+2v735QsKCu655x6H5i0yoeGKgHi2g6XYJR0cM2aMq+Ci87hx45JC2by1+bIAEdCyke4LCyznMt/FaxnN74N79uz5+9//ft9991133XW33377U089ZfOND34kg7amM1Sb48irH1uRmJUSQFsrRUSHDAiEqa3//ve/U/9sfv/99x0uw5W26rp+/vnna5qWm5v7+eefG1NkoK26rm/duvUPf/hDs2bNkpJv2LDhDTfc4PybtBwuk26pBNL9fn1SRTRNa9GiRWlpaWoEJ0fSfT1s6iyVfjWr/XTm58GlBjcfSXpmgn3YSJ5FW2301P4U8hrJK0LmRaGtMldH3dzC1FZd14899ljzn8qNGjVyfnegW21dtmyZ8ZfLvXv3NgqWmbaKYq9evXr27NmvvfbajBkzVqxY4TxzEYFGxgTMv9Jn3kJJ7bfeeivjKXRdnzlzZlJAy7e33nprNrNs27bNxsbEjKlPqM1mUkXH2oDiV7LstdU4i7wquvNVTBttVbFq8uccsrY+9dRTzU0vJ4+dF0zdaquu67/73e80TcvJyTG+pjVLbRWZ0AiegJPvjjr99NOzT+zcc88V4mjZqF279o8//pjlRI899phlcPPBwO4fzXItvg5HW524aaV9kFdfdynBDQJoKzvBDwIha2s2S8pAW7/44gvjoZ7G912hrdnwD33s6NGjzVaX1M7JyVm6dGn2SX755Zc2XyiqadrIkSOzn8X8bOCkhRhvzzrrrOxniUAEtLVSJXXeAXmNwBUh8xLQVpmro25u8dJWXdeN57fn5OQsWbIEbVV34+q6fuDAgaOPPtpS8jRNu+KKK7xa3YABA9LN0qxZMydfjeEkk9dffz3dLHl5ef/+97+dBIl8H7TVuZU67Im8Rv6qCWuBaGtY5KM9b+y09auvvjI+POvWrRvaqvrmnjZtmqXqGY9x9Wp1W7ZsKSoqspzor3/9q1ezJBIJ809583TXXnutV7OoHgdtdSijbrshr6pfGhLmb/6BNnz4cAkzJCUVCcROW3Vdv/LKKw0nePjhh43GM888o2LxyFk8kdcseZqmDRkyxFs4DzzwQNIUmqadfPLJiUTCw4k++uij1EfSFhUVbdmyxcNZlA6Ftrr1UVf9kVelrw7ZkkdbZatINPKJo7auWbPG+FKuevXqoa2q7+NPP/3UuF9ZaKUfDzfdu3fvEUccIaYwGgsWLPCcXq9evZJmeeihhzyfRd2AaKsrDc2sM/Kq7gUiVeZoq1TliEwycdRWXdeT7lbk01alN/QVV1xhVr1x48b5sZyXXnrJPMsll1zixyxJj6Rt3Ljx7t27/ZhI0Zhoa2YmmsEo5FXRa0SetNFWeWoRpUyU1NbPPvts2bJl4ldYzjjjjGX/9/r++++N2hw4cMAwjD59+lhWa8OGDQUFBcJC0FZLSqoc3Lx5s/jSUf8eblpRUVFcXGzsmYKCgjVr1vjE5/e//73YmZMmTfJpFkXDoq0ZCGg2Q5BXRa8UGdJGW2WoQvRyUFJba9WqJf5cNzeeeuopo0KVaquu6zfddJMYi7aqvrPvueceo5ozZszwby3z5s0zZhk0aJB/s2zfvt24faVt27Z8h0USZ7Q1GwfNeCzymrQPeeuEANrqhBJ93BKIr7Zu2bKlevXqhoWgrW73jWz9S0pKGjZsGMDDTS+44II6deps27bNVwKjRo3SNG327Nm+zqJicLQ1Y/XMfiDyquIlE2LOaGuI8CM8tZLaumPHju1Wr3379olSGeft7wv8+eefjW5ePXpTzE4jeALjx483vvzM16lXrlw5duxYX6fQdb20tPTOO+/0exYV46Ot2dtnlhGQVxUvnFByRltDwR75SZXU1shXhQVCAAKWBNDWLKXTq+HIq+X+5KCZANpqpkHbKwJoq1ckiQMBCPhOAG31yjs9iYO8+r7jVZ4AbVW5evLmjrbKWxsygwAEkgigrZ7oprdBkNekXcpbgwDayk7wgwDa6gdVYkIAAr4QQFu9NU4PoyGvvux4lYOirSpXT97c0VZ5a0NmEIBAEgG01UPR9CMU8pq0Y+P8Fm2Nc/X9Wzva6h9bIkMAAh4TQFv9cE3PYyKvHu97NcOhrWrWTfas0VbZK0R+EICAIIC2eq6Y/gVEXsW+jWcDbY1n3f1eNdrqN2HiQwACnhFAW/2zTJ8iI6+e7X7VAqGtqlVMjXzRVjXqRJYQgICu62irT3Lpd1jkNYbXL9oaw6IHsGS0NQDITAEBCHhDAG312y99jY+8enMZKBIFbVWkUIqlibYqVjDShUCcCaCtvmplMMGR15hcwmhrTAod8DLR1oCBMx0EIJA5AbQ1GLMMYBbkNfPLQJGRaKsihVIsTbRVsYKRLgTiTABtDUAog5wCeY3w5Yy2Rri4IS4NbQ0RPlNDAALuCKCtQTplYHMhr+4uA0V6o62KFEqxNNFWxQpGuhCIMwG0NTCVDH4i5DVilzbaGrGCSrIctFWSQpAGBCBQOQG0NXibDHhG5LXyy0CRHmirIoVSLE20VbGCkS4E4kwAbQ1YIsOaDnmNwGWOtkagiBIuAW2VsCikBAEIWBNAW8PyyFDmRV6tLwNFjqKtihRKsTTRVsUKRroQiDMBtDUUfQx3UuRV0UsebVW0cJKnjbZKXiDSgwAE/ksAbQ3XIEOcHXn972WgSAttVaRQiqWJtipWMNKFQJwJoK0hiqMMUyOvCl3+aKtCxVIoVbRVoWKRKgTiTgBtlcEdQ88BeVXiBwHaqkSZlEsSbVWuZCQMgfgSQFtDV0Z5EkBeJf9BgLZKXiBF00NbFS0caUMgjgTQVnmsUZJMkFdpfxCgrdKWRunE0Faly0fyEIgXAbRVElmULQ3kVcIfBFHS1tLS0rvvvnvwwdekSZMyAL5jx46DAf73v0uXLs0gCEPQVvYABCCgDAG0VTZflCof5FWqKzlK2qrr+mmnnaYdfNWuXbu0tNQt7ZdeeulgAC0nJ2f9+vVuI9Bf13W0lW0AAQgoQwBtlUoT5UwGeZXkeo6Y8SEzgAAAIABJREFUto4ZM0ZIp6ZpM2fOdMu5a9euIkLHjh3dDqe/QQBtZSdAAALKEEBb5TRFCbNCXkO/qiOmrVu3bs3Pzxfeec0117givGPHjoKCAjF89OjRrobTWRBAWwUKGhCAgOwE0FYJBVHmlJDXEC/piGmrruudO3cW3un2PgHzHQK5ubnffvttiKVRemq0VenykTwE4kUAbZXZEaXNDXkN5cdE9LR1/PjxQlvd3idgvkPgrLPOCqUi0ZgUbY1GHVkFBGJBAG2VVg3lTwx5DfhnRPS0dfv27ea/6Hd+n0DSHQLjxo0LuBZRmg5tjVI1WQsEIk4AbZXfDiXPEHkN7GdE9LRV1/ULLrhAfODq/D4B8x0CVapU+emnnwKrQvQmQlujV1NWBIHIEkBbJZdCVdJDXgP4GRFJbZ08ebLQVuf3CZjvEOjatWsA8CM8Bdoa4eKyNAhEjQDaqooXKpEn8urrD4hIamtJSUn16tWFuTq5TyDpDoHMvqrA10qpFRxtVateZAuBWBNAW5XQQbWSRF59+pkSSW3Vdf3iiy8W2urkPgHzHQLVqlXbuXOnT8BjEhZtjUmhWSYEokAAbVXLCBXKFnn1/AeEVNq6c+fOqVOnjhgx4rbbbhs6dOjYsWM//fTTzJY8depUoa1O7hMw3yFw8cUXZzYpowQBtFWgoAEBCMhOAG1VSARVTBV59fBHgCTaumLFiosuusj8BAAhnU2bNh09erTbr2ndt29fzZo1RRD7+wSS7hCYMmWKh4TjGQptjWfdWTUElCSAtqrogsrljLxm+dOhvLx83rx5hx9+uHC7Tp06LV68OJFIZBnZ1fCKiop77703Ly9PpGHZOProo7/44gtXka+44goRyv4+AfMdAoWFhbt373Y1EZ1TCaCtqUw4AgEISEoAbVVOAdVNGHnN7KfA9OnTW7duLazO3DjppJMWLFiQWVi3o8rKysw3oWqaVlhY2KVLl6uuuqpnz55t2rQxJ1azZs1//etfzqeYPn26efiMGTPSjTXfIdC3b9903TjunADa6pwVPSEAgZAJoK3qWqCimSOvzq/5ioqKwYMHm30utZ2Xlzdq1CjnMTPuedttt4nZGzdu/OKLL+7bt88cbdWqVZdddpnoU6dOndWrV5s72LQPHDhQr149MbZ///6WnZPuEPjHP/5h2Y2Drgigra5w0RkCEAiTANqqqPypnjby6uSyHzJkiDA5+8bzzz/vJGDGfWbMmCESOO2003744Yd0oSZPnixuez3ppJOc38Zw7bXXiinS3SdgvkOgdu3a+/fvT5cGx50TQFuds6InBCAQMgG0VXX/Uzr/6T2P7dCwhpAVV43GjRs/88wzERaXOXPm5OTkOGRSpUqVFStW+PTTpKKi4vjjjzcyadWqVaUPnBo3bpxI2/mvTM2ePVuM0jTN8j4B8x0CAwYM8Gm9cQuLtsat4qwXAgoTQFuV1r5oJJ+NvLZu3XrNmjUKX4HpUz/hhBPMGldpu3v37umDZXXm/fffF7PPnTvXSazOnTsbQ8444wwn/XVdLy8vP+yww8REqfcJJN0hMGvWLIeR6WZPAG2158NZCEBAIgJoazTMLwKryFheW7Ro8d13322P1mv+/PlC4Bw2cnNzV61a5QeGm2++2cjh5JNPdvjD69133zWG5Ofnb9u2zeGoW265RSw29T4B8x0CDRo0KCsrcxiWbvYE0FZ7PpyFAAQkIoC2RkD4orSEjOVV6A4N/wg8+OCDDn94lZaWFhYWGpk4f6TAggULzMkn3SdgvkPg5ptvdpiJrusHDhzYsGHDRx999Pnnn2/ZssX5wJj0RFtjUmiWCYEoEEBbo+R8kVkL8mq2N3nar732mvOfeuKhXa+88orDUYlEomnTpmK95vsEku4Q+OCDD5zEnD17dq9evWrU+MX900ceeeStt966fv16ywi33HJL8f+9Nm7caNnBOHjKKacUFxeff/75uq6vXr3aGOLq36tWrbKJH+QptDVI2swFAQhkRQBtjYzqRWYhZYM6vXphq1Z1qwt9oSEJgTfeeMP5j5t27doZab/44ovOR911111iseb7BMx3CDRq1KiiosI+5s6dO7t37y5CpTaqVav2yCOPpAY599xzjc5fffVV6llxxHhaQuPGjXVd//zzz1PjV3ok4+/CFTl41UBbvSJJHAhAwHcCaGtkbC8CC0FYK3WdcDs8/fTTzn8kieewzpw50/mopUuXmtco7hMw3yEwaNAg+4Dbtm1r3769ESc/P793794vv/zye++9N3369CeeeKK4uFhMcdNNNyWFykBbv/766y5WrypVqmialp+fb3Wyizy/Soi2Ju0B3kIAAvISQFsjYHsRWEI2wnrUUUctXrx4WbRe9957r1Ar541Ro0b5gaFbt25GDs4fVvDZZ5+JtL/++mtXPwFbtmwpxhr3CSTdIbBkyRL7gJdeeqkRoWnTpp999llS50QiMWHCBMMpNU17+eWXzR0y0FbzcHPb+Olaq1Yt80EJ22irhEUhJQhAwJoA2hoB51N6CdkIq6ZpxcXF9vcgWu976Y9u3rzZ+UNbDUUrLCzcu3evHyt74403jCmqVq2a7pbQpHlvuOEGY0ibNm2STlX6dujQocZYTdOM+wTMdwg0b97c/isM3nvvPWN4zZo1165dm266l19+2ehWu3btkpIS0Q1tFShoQAACEJCOANqqtPMpnXyWwtqyZctJkyaVl5dLd1F5lJD4yFA4nH3jj3/8o0czJ4fZvXt3/fr1jdm7d+9ub426ri9ZsiQ/P9/o/+ijjyaHq+z9ypUrzSudMWOG+Q6BIUOG2Ac4//zzjeFPPfWUfU/xcNlnnnlG9ERbBQoaEIAABKQjgLYqbX6KJl82qNNbv2vT7tAis504bzdr1mzcuHGRf2znunXratWq5RBLkyZNtm/f7t/Pl6efflpkMmjQIBtz/eqrrxo3bmx0Pvzww3fv3p1BVr/+9a/FdBdddJH4tlhN0z7//HObgFu3bjU+pT7kkEN+/vlnm566rr/11lvGLObn0aKt9tA4CwEIQCBMAmirouanaNoIq6urfcaMGeJjS6FxqY3CwsKlS5e6iuy2c2lpaceOHcXU3bp1W7duXVKQioqKl156qU6dOka33Nzct956K6mPw7cPPfSQmMvcaNWqlX2EadOmGf0vvPBC+566rpeWllarVk3TtCpVquzZs8foj7ZWyo0OEIAABEIjgLYq6n/KpY2wZnaRz507V/xKvlngRPvII48M5lFK33//fbNmzcS8BQUFXbt2HTly5Kuvvjp+/Pg777zTfFbTNMvHSzmEsHbtWstbeyv9vgNxX+x9993nZK4TTzzRWNFHH31k9EdbnXCjDwQgAIFwCKCtyvmfcgkjrFle2z/++OMdd9yResNAgwYNhg8fvmvXrizjOx/+448/nn766cJc0zXy8/PHjh3rPKxlzw4dOqTGt3+Wqq7r119/vTFq4sSJlmGTDvbq1cvo//bbbxun0NYkRLyFAAQgIBEBtFU5C1QoYYTVw0u9tLR07ty548ePHzFixIsvvvjhhx+G8utopaWlY8aMEb+hlWqWXbt2/eKLL7Jf+MiRI5OCFxcXVxr2kksuMUY5/GaEAQMGGP3FY7DQ1koh0wECEIBAaATQVoUsUKFUEdbQLulAJt6zZ8+0adOuu+66M844o1WrVieccEK3bt0effTR//znP17Nv2nTptzcXLO5Pv7445UG79OnjzHkzTffrLSzrutCWydNmmT0R1udcKMPBCAAgXAIoK0KuaASqSKs4VzJUZx10KBBvU2vTZs2VbpK8bzYl156qdLOuq737t3b0Nzp06cb/dFWJ9zoAwEIQCAcAmirEi6oRJIIazjXMLOaCAwbNszQ0OHDh5sOp22KX8lavHix0Ulo66pVq9IO03XjS7aaNGli08f46cq3ZNkg4hQEIAABdwTQViWMUPIkEVZ3Vx29fSPw9ttvG9rarVu3Sic5cOCAeACW+IKxnj17GhE+/vjjdBH27Nlj9DnmmGPS9dF1HW21gcMpCEAAApkQQFslN0LJ00NYM7nqGOMbgR9++MG4Izbjrxvo16+foaQzZ85Ml+aGDRuMPieddFK6PmirDRlOQQACEMiQANoquRdKmx7CmuElxzCfCYgvdx05cqT9VGeeeaZhn+Yvd33kkUeMg2PGjEk3/L333jP6XHXVVen6oK02ZDgFAQhAIEMCaKu0XihtYghrhhcbwwIhMHPmTMMpi4qKbJ5sMG7cOKNb7dq1zV8DO2/ePOP4iSeemO47bK+44gqjz3PPPWezJm4SsIHDKQhAAAKZEEBbpbVDCRNDWDO5xhgTOAHxGKxGjRqJr78SWSQSiWeffTYvL89Qz7/85S/ilK7riUTimGOOMU4NHTo01VwnTZpk3IdQWFi4Y8cO89ikNtqaBIS3EIAABLIlgLZKaIcSpoSwZnulMT5AAtu2bWvfvr2hnrm5uT169JgwYcK77747ffr0kSNHnnDCCcYpTdNuvfXW1LzmzJkjpPY3v/nN888/P2/evPfff3/ixIldu3YVY823FqQG4SYBSyYchAAEIJAVAbRVQkeUKiWENasLjMEhEdi5c2e3bt2EYqY2qlat+uijj6bLbtKkScZDBlIHapqWk5MzbNiwdGPFcT5tFShoQAACEPCGANoqlSNKlQzC6s01RpTwCLz33ns9e/YsKioy2+eRRx554403rlu3zj6vVatW9e/fP+lrbAsLC7t3775w4UL7scbZM888s7i4+PTTT3fSOcQ+WohzMzUEIAABVwTQVqlMUZJkEFZXFxGdJSdw4MCBTZs2ffzxx59//vl3333nKttEIrFx48alS5cuXrx49erVZWVlroYr0RltVaJMJAkBCPwvAbRVElOUJA2ElZ8LEIgbAbQ1bhVnvRBQmADaKokvhp4GwqrwZUzqEMiCANqaBTyGQgACwRJAW0P3xdATQFiDveaYDQJyEUBb5aoH2UAAAjYE0NbQrTHEBBBWm0uDUxCICQG0NSaFZpkQiAIBtDVEawxxaoQ1Clcva4CAFwTQVi8oEgMCEAiEANoaojuGMjXCGsiFxSQQUIYA2qpMqUgUAhBAW0Nxx1AmRVi53iEAgVQCaGsqE45AAAKSEkBbQzHIgCdFWCW9/EgLAhIQQFslKAIpQAACzgigrQEbZMDTIazOrgN6QSC+BNDW+NaelUNAOQJoa8AeGdh0CKtyFyMJQyAUAmhrKNiZFAIQyIQA2hqYRwY2EcKayZXAGAjElQDaGtfKs24IKEgAbQ3MJgOYCGFV8BIkZQiETABtDbkATA8BCDgngLYGYJMBTIGwOt/z9IQABMwE0FYzDdoQgIDUBNDWAJzS1ykQVqkvMJKDgPQE0FbpS0SCEIDAQQJoq69O6WtwhPXgLua/EIBA5gTQ1szZMRICEAiYANrqq1n6FBxhDfgyYToIRJgA2hrh4rI0CESNANrqk1n6FBZhjdoVyHogEDYBtDXsCjA/BCDgmADa6pNfeh4WYXW8qekIAQi4IIC2uoBFVwhAIFwCaKvnful5QIQ13GuE2SEQbQJoa7Try+ogECkCaKvnlulhQIQ1Uhcbi4GAlATQVinLQlIQgIAVAbTVQ8v0MBTCarVbOQYBCHhPAG31nikRIQABnwigrR66piehEFaftjphIQABSwJoqyUWDkIAAjISQFs9cU1PgiCsMl4h5ASBqBNAW6NeYdYHgQgRQFs9Mc4sgyCsEbqkWAoEFCOAtipWMNKFQJwJoK1ZGmeWwxHWOF99rB0CMhBAW2WoAjlAAAKOCKCtWXpnxsMRVkcblE4QgIDPBNBWnwETHgIQ8I4A2pqxd2Y8EGH1bv8SCQIQyJYA2potQcZDAAKBEUBbM7bPDAYirIFtbCaCAAQcEkBbHYKiGwQgED4BtDUD+8xgCMIa/l4nAwhAwIoA2mpFhWMQgICUBNDWDBzU1RCEVcqNT1IQgMD/E0Bb2QoQgIAyBDzU1p5H1293aJHxz+WtG7hyu0h2RliVuQxIFAIxJoC2xrj4LB0CqhHwUFtb1ztEO/gqPqwokibqcFEIq2rXAflCIL4E0Nb41p6VQ0A5AmirQxN12A1hVe4SIGEIxJwA2hrzDcDyIaASAbTVoY9W2g1hVWnfkysEIHCQANp6kAT/hQAEpCeAtlbqo5V2QFil3+YkCAEIpCWAtqZFwwkIQEA2AmhrpVZq0wFhlW0/kw8EIOCWANrqlhj9IQCB0AigrTZWanMKYQ1tyzIxBCDgKQG01VOcBIMABPwkgLbauKnlKYTVz/1IbAhAIGgCaGvQxJkPAhDImADaaummlgcR1oy3GQMhAAFpCaCt0paGxCAAgWQCaKuloSYdRFiT9w3vIQCBqBBAW6NSSdYBgRgQQFuTDDXpLcIag4uAJUIg1gTQ1liXn8VDQC0CaGuSp4q3CKtaO5lsIQCBzAigrZlxYxQEIBACAbRVeKpoIKwhbESmhAAEQiKAtoYEnmkh4CeBb7/99uUovgoLC7U0r8VXtBMm56TRut4hIlLxYUVOhsjWB2H18xoiNgQgICMBtFXGqpATBLIkMHPmTOFkMWkY2trrmPpdmtZ28k9hlTxBpmbVfCdDujSt3bf1oTLIK8Ka5QXCcAhAQFECaKuihSNtCNgRiK22NqheRcioH40ja1YNV1sRVrt9zzkIQCDqBNDWqFeY9cWSANrqh7NqmhaitiKssbyUWTQEIPALAmjrL3DwBgLRIJCkrYdG5ZWbm5vOR42bBCL5aSvCGo2rklVAAALZE0Bbs2dIBAhIRyBJW6XLL9OEKn2SwMVH1+/ctLaTf8z3ttYoyHMypHPT2pe1bhDkTQIIa6Y7hXEQgEA0CaCt0awrq4o5gdhqq3OnlPxJAghrzC9hlg8BCFgSQFstsXAQAmoTQFsr9VdptRVhVfvaI3sIQMBPAmirn3SJDYGQCKCtKmorwhrS5cK0EICAMgTQVmVKRaIQcE4AbVVLWxFW53ubnhCAQJwJoK1xrj5rjywBtFUVbUVYI3sRsjAIQMAHAmirD1AJCYGwCaCt8msrwhr2VcL8EICAegTQVvVqRsYQqJQA2iqztiKslW5gOkAAAhCwJIC2WmLhIATUJoC2yqmtCKva1xXZQwACYRNAW8OuAPNDwAcCaKts2oqw+rDNCQkBCMSOANoau5Kz4DgQQFvl0VaENQ5XHGuEAASCIYC2BsOZWSAQKAG0VQZtRVgD3fRMBgEIxIAA2hqDIrPE+BFAW8PVVoQ1ftccK4YABIIggLYGQZk5IBAwAbQ1LG1FWAPe6kwHAQjEigDaGqtys9i4EEBbK9XWni3rH9+g0Pjn0lYNKu1faQeENS5XF+uEAATCI4C2hseemSHgGwG0tVLL9LADwurbRiYwBCAAgV8QQFt/gYM3EIgGAbTVQyu1CYWwRuN6YRUQgIAqBNBWVSpFnhBwQQBttXFNT04hrC62I10hAAEIeEQAbfUIJGEgIBMBtNUTN7UMgrDKtNPJBQIQiBcBtDVe9Wa1MSGAtloaZ5YHEdaYXD4sEwIQkJYA2iptaUgMApkTQFuzNNSk4Qhr5nuRkRCAAAS8I4C2eseSSBCQhgDamuSdGb9FWKXZ1CQCAQhAQEdb2QQQiCABtDVjTxUDEdYIXhgsCQIQUJwA2qp4AUkfAlYE0FZhnxk0EFarPcUxCEAAAuETQFvDrwEZQMBzAmhrBrZacVcnhNXzrUhACEAAAh4SQFs9hEkoCMhCAG11q60Iqyx7lzwgAAEIpCeAtqZnwxkIKEsAbXWurQirstucxCEAgdgRQFtjV3IWHAcCaKsTbUVY43AtsEYIQCBKBNDWKFWTtUDg/wmgrfbairByqUAAAhBQkQDaqmLVyBkClRBAW9NpK8JaydbhNAQgAAGJCaCtEheH1CCQKQG0NVVbEdZMdxPjIAABCMhCAG2VpRLkAQEPCaCtZm1FWD3cWoSCAAQgECIBtDVE+EwNAb8IoK2GtiKsfu0w4kIAAhAIgwDaGgZ15oSAzwTQVoTV5y1GeAhAAAIhEEBbQ4DOlBDwm0CctRVh9Xt3ER8CEIBAWATQ1rDIMy8EfCQQT21FWH3cUoSGAAQgIAEBtFWCIpACBLwmEENtvfvkI1rXO0TL6NWyZctJkyaVlZV5XQfiQQACEICAlwTQVi9pEgsCkhCIobZm5Ktas2bNxo0bh7BKsm9JAwIQgIA9AbTVng9nIaAkAbS1UotFWJXc2SQNAQjEmwDaGu/6s/qIEkBbbbQVYY3ormdZEIBA9AmgrdGvMSuMIYE33njD7G0lJSXRgFC3bl3zuty2uYc1GtuAVUAAArElgLbGtvQsPMoEXnjhBbPSrVu3LhqrzVhb+YQ1GhuAVUAAAjEngLbGfAOw/GgSQFuFtSOs0dzirAoCEIglAbQ1lmVn0VEngLZqGk8JiPouZ30QgED8CKCt8as5K44Bgahqa+PGjcXHqDYN7mGNwR5niRCAQBwJoK1xrDprjjyBqGpr165dbWxV0zSENfJ7mwVCAAJxJoC2xrn6rD2yBKKqrbNmzUqnrQhrZHczC4MABCBwkADaepAE/4VAhAhEVVt1XX/sscdyc3PN8oqwRmjnshQIQAACdgTQVjs6nIOAogQirK26ri9btuymm27q0qXLZZdd9re//Y2vZlV0l5I2BCAAAbcE0Fa3xOgPAQUIRFtbFSgAKUIAAhCAgA8E0FYfoBISAmETQFvDrgDzQwACEICA9wTQVu+ZEhECoRNAW0MvAQlAAAIQgIDnBNBWz5ESEALhE0Bbw68BGUAAAhCAgNcE0FaviRIPAhIQQFslKAIpQAACEICAxwTQVo+BEg4CMhBAW2WoAjlAAAIQgIC3BNBWb3kSDQJSEEBbpSgDSUAAAhCAgKcE0FZPcRIMAnIQQFvlqANZQAACEICAlwTQVi9pEgsCkhBAWyUpBGlAAAIQgICHBNBWD2ESCgKyEEBbZakEeUAAAhCAgHcE0FbvWBIJAtIQQFulKQWJQAACEICAZwTQVs9QEggC8hBAW+WpBZlAAAIQgIBXBNBWr0gSBwISEUBbJSoGqUAAAhCAgEcE0FaPQBIGAjIRQFtlqga5QAACEICANwTQVm84EgUCUhFAW6UqB8lAAAIQgIAnBNBWTzASBAJyEUBb5aoH2UAAAhCAgBcE0FYvKBIDAjIR2LNnz6hRozTTa/HixXv27JEpR3KBAAQgAAEIuCaAtrpGxgAISE4gyVkNfX322WclT5v0IAABCEAAAvYE0FZ7PpyFgHoE0Fb1akbGEIAABCDggADa6gASXSCgFAG0ValykSwEIAABCDglgLY6JUU/CKhCAG1VpVLkCQEIQAACrgigra5w0RkCChBAWxUoEilCAAIQgIB7Amire2aMgIDcBNBWuetDdhCAAAQgkCEBtDVDcAyDgLQE0FZpS0NiEIAABCCQDQG0NRt6jIWAjATQVhmrQk4QgAAEIJA1AbQ1a4QEgIBkBNBWyQpCOhCAAAQg4A0BtNUbjkSBgDwE0FZ5akEmEIAABCDgIQG01UOYhIKAFATQVinKQBIQgAAEIOA1AbTVa6LEg0DYBNDWsCvA/BCAAAQg4AsBtNUXrASFQIgE0NYQ4TM1BCAAAQj4RwBt9Y8tkSEQDgG0NRzuzAoBCEAAAj4TQFt9Bkx4CAROAG0NHDkTQgACEIBAEATQ1iAoMwcEgiSAtgZJm7kgAAEIQCAwAmhrYKiZCAIBEUBbAwLNNBCAAAQgECwBtDVY3swGAf8JoK3+M2YGCEAAAhAIgQDaGgJ0poSArwTQVl/xEhwCEIAABMIigLaGRZ55IeAXAbTVL7LEhQAEIACBUAmgraHiZ3II+EAAbfUBKiEhAAEIQCB8Amhr+DUgAwh4SwBt9ZYn0SAAAQhAQBICaKskhSANCHhGAG31DCWBIAABCEBAJgJoq0zVIBcIeEEAbfWCIjEgAAEIQEA6AmirdCUhIQhkSQBtzRIgwyEAAQhAQE4CaKucdSGriBP4+eefb7zxxkaNGmkqv3Jycho3bnzLLbfs2rUr4gVjeRCAAAQgIAEBtFWCIpBCzAhUVFR06tRJZV9Nzr1z586JRCJmZWS5EIAABCAQNAG0NWjizAeBefPmJXuf+u8XLlxIZSEAAQhAAAK+EkBbfcVLcAhYEJgwYYL6mpq8gsmTJ1sslUMQgAAEIAAB7wigrd6xJBIEnBFYuHBhsvSp/37p0qXOVk8vCEAAAhCAQIYE0NYMwTEMAhkTSCQS3bp1U99U/7uCnj17ZkyDgRCAAAQgAAGHBNBWh6DoBgEvCezfv//+++8//vjjmyv+atu27UMPPVRaWuolHWJBAAIQgAAErAigrVZUOAYBCEAAAhCAAAQgIBkBtFWygpAOBCAAAQhAAAIQgIAVAbTVigrHIAABCEAAAhCAAAQkI4C2SlYQ0oEABCAAAQhAAAIQsCKAtlpR4RgEIAABCEAAAhCAgGQE0FbJCkI6EIAABCAAAQhAAAJWBNBWKyocg4BMBEpKSubPnz87wNf8+fNLSkpkYkAuEIAABCAAAR1tZRNAQGoCzz33XFFR0X+f7B9Uq0aNGi+88ILUaEgOAhCAAARiRgBtjVnBWa5SBObPn5+TkxOUqSbPk5ubu3DhQqWAkSwEIAABCESZANoa5eqyNtUJXHPNNckuGez7G264QXWG5A8BCEAAApEhgLZGppQsJIIEevfuHaymJs/Wt2/fCGJlSRCAAAQgoCYBtFXNupF1PAg8//zzySIZ7PsXX3wxHqRZJQQgAAEIKEAAbVWgSKQYWwJlZWXnnXdesKb639m6detWXl4eW/gsHAIQgAAEZCOAtspWEfKBwC8IVFRUTJ069dZbbx0Y1Ov666+/++6733zzzYqKil+kwhsIQAACEIBAqATQ1lDxMzkEIAABCEAAAhCAgDMCaKszTvSCAAQgAAEIQACzGv1dAAACu0lEQVQCEAiVANoaKn4mhwAEIAABCEAAAhBwRgBtdcaJXhCAAAQgAAEIQAACoRJAW0PFz+QQgAAEIAABCEAAAs4IoK3OONELAhCAAAQgAAEIQCBUAmhrqPiZHALeESgpKfnzn/882PY1fvz43bt3ezcnkSAAAQhAAALBEUBbg2PNTBDwj8D69eubNm36368KSN9q3rz5pk2b/MuEyBCAAAQgAAGfCKCtPoElLAQCJdCjR4/0ppp8pnfv3oEmx2QQgAAEIAABLwigrV5QJAYEwiZwyCGHJMtp+ve1a9cOO1/mhwAEIAABCLgmgLa6RsYACEhIoH79+uk1NflMo0aNJFwCKUEAAhCAAATsCaCt9nw4CwE1CNx5553Jcpr+/eDBg9VYFVlCAAIQgAAETATQVhMMmhBQlsDevXsvueSS9Kb63zOXX375vn37lF0oiUMAAhCAQHwJoK3xrT0rjx6BNWvWzLZ9ff3119FbNSuCAAQgAIGYEEBbY1JolgkBCEAAAhCAAATUJoC2ql0/socABCAAAQhAAAIxIYC2xqTQLBMCEIAABCAAAQioTQBtVbt+ZA8BCEAAAhCAAARiQgBtjUmhWSYEIAABCEAAAhBQmwDaqnb9yB4CEIAABCAAAQjEhADaGpNCs0wIQAACEIAABCCgNgG0Ve36kT0EIAABCEAAAhCICQG0NSaFZpkQgAAEIAABCEBAbQJoq9r1I3sIQAACEIAABCAQEwJoa0wKzTIhAAEIQAACEICA2gTQVrXrR/YQgAAEIAABCEAgJgTQ1pgUmmVCAAIQgAAEIAABtQmgrWrXj+whAAEIQAACEIBATAigrTEpNMuEAAQgAAEIQAACahNAW9WuH9lDAAIQgAAEIACBmBBAW2NSaJYJAQhAAAIQgAAE1CaAtqpdP7KHAAQgAAEIQAACMSHwP6Oly3fj1sOvAAAAAElFTkSuQmCC)\n",
        "\n",
        "\n",
        "# Créditos:\n",
        "\n",
        "La explicación del colega *David L. Jones* de *EEVblog* es ejemplar, y esta pequeña clase se basa en su material y experiencia: https://youtu.be/7FYHt5XviKc?si=ZwYOwHoR0LQHuIhU\n",
        "\n",
        "El software Online de Multisim también es una maravillosa herramienta."
      ],
      "metadata": {
        "id": "Sase9M6zxWMK"
      }
    }
  ]
}